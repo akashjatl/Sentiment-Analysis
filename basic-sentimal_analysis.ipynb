{
 "cells": [
  {
   "cell_type": "code",
   "execution_count": 3,
   "id": "bb3e8e7d-f429-4a4d-bf6e-f120af7e3756",
   "metadata": {},
   "outputs": [],
   "source": [
    "import torch"
   ]
  },
  {
   "cell_type": "code",
   "execution_count": 7,
   "id": "25a6b3c0-0312-42d2-a251-271b4fd0f8c0",
   "metadata": {},
   "outputs": [],
   "source": [
    "from transformers import AutoTokenizer,AutoModelForSequenceClassification\n",
    "from bs4 import BeautifulSoup\n",
    "import requests\n",
    "import re\n"
   ]
  },
  {
   "cell_type": "code",
   "execution_count": 10,
   "id": "dd312fc7-7bab-4805-83d5-f95b19addc48",
   "metadata": {},
   "outputs": [
    {
     "name": "stderr",
     "output_type": "stream",
     "text": [
      "\n",
      "Downloading (…)\"pytorch_model.bin\";:   0%|                                                  | 0.00/669M [00:00<?, ?B/s]\u001b[A\n",
      "Downloading (…)\"pytorch_model.bin\";:   2%|▋                                        | 10.5M/669M [00:03<04:05, 2.69MB/s]\u001b[A\n",
      "Downloading (…)\"pytorch_model.bin\";:   3%|█▎                                       | 21.0M/669M [00:09<05:12, 2.07MB/s]\u001b[A\n",
      "Downloading (…)\"pytorch_model.bin\";:   5%|█▉                                       | 31.5M/669M [00:14<05:06, 2.08MB/s]\u001b[A\n",
      "Downloading (…)\"pytorch_model.bin\";:   6%|██▌                                      | 41.9M/669M [00:18<04:31, 2.31MB/s]\u001b[A\n",
      "Downloading (…)\"pytorch_model.bin\";:   8%|███▏                                     | 52.4M/669M [00:21<04:02, 2.55MB/s]\u001b[A\n",
      "Downloading (…)\"pytorch_model.bin\";:   9%|███▊                                     | 62.9M/669M [00:25<03:51, 2.62MB/s]\u001b[A\n",
      "Downloading (…)\"pytorch_model.bin\";:  11%|████▍                                    | 73.4M/669M [00:28<03:32, 2.81MB/s]\u001b[A\n",
      "Downloading (…)\"pytorch_model.bin\";:  13%|█████▏                                   | 83.9M/669M [00:32<03:22, 2.90MB/s]\u001b[A\n",
      "Downloading (…)\"pytorch_model.bin\";:  14%|█████▊                                   | 94.4M/669M [00:36<03:22, 2.85MB/s]\u001b[A\n",
      "Downloading (…)\"pytorch_model.bin\";:  16%|██████▌                                   | 105M/669M [00:39<03:06, 3.03MB/s]\u001b[A\n",
      "Downloading (…)\"pytorch_model.bin\";:  17%|███████▏                                  | 115M/669M [00:42<03:07, 2.95MB/s]\u001b[A\n",
      "Downloading (…)\"pytorch_model.bin\";:  19%|███████▉                                  | 126M/669M [00:49<03:47, 2.39MB/s]\u001b[A\n",
      "Downloading (…)\"pytorch_model.bin\";:  20%|████████▌                                 | 136M/669M [00:55<04:09, 2.14MB/s]\u001b[A\n",
      "Downloading (…)\"pytorch_model.bin\";:  22%|█████████▏                                | 147M/669M [01:00<04:17, 2.03MB/s]\u001b[A\n",
      "Downloading (…)\"pytorch_model.bin\";:  23%|█████████▊                                | 157M/669M [01:06<04:24, 1.94MB/s]\u001b[A\n",
      "Downloading (…)\"pytorch_model.bin\";:  25%|██████████▌                               | 168M/669M [01:13<04:31, 1.85MB/s]\u001b[A\n",
      "Downloading (…)\"pytorch_model.bin\";:  27%|███████████▏                              | 178M/669M [01:20<04:48, 1.70MB/s]\u001b[A\n",
      "Downloading (…)\"pytorch_model.bin\";:  28%|███████████▊                              | 189M/669M [01:27<04:49, 1.66MB/s]\u001b[A\n",
      "Downloading (…)\"pytorch_model.bin\";:  30%|████████████▍                             | 199M/669M [01:31<04:15, 1.84MB/s]\u001b[A\n",
      "Downloading (…)\"pytorch_model.bin\";:  31%|█████████████▏                            | 210M/669M [01:35<03:46, 2.03MB/s]\u001b[A\n",
      "Downloading (…)\"pytorch_model.bin\";:  33%|█████████████▊                            | 220M/669M [01:38<03:14, 2.30MB/s]\u001b[A\n",
      "Downloading (…)\"pytorch_model.bin\";:  34%|██████████████▍                           | 231M/669M [01:41<02:49, 2.59MB/s]\u001b[A\n",
      "Downloading (…)\"pytorch_model.bin\";:  36%|███████████████▏                          | 241M/669M [01:44<02:37, 2.71MB/s]\u001b[A\n",
      "Downloading (…)\"pytorch_model.bin\";:  38%|███████████████▊                          | 252M/669M [01:49<02:48, 2.48MB/s]\u001b[A\n",
      "Downloading (…)\"pytorch_model.bin\";:  39%|████████████████▍                         | 262M/669M [01:54<02:49, 2.40MB/s]\u001b[A\n",
      "Downloading (…)\"pytorch_model.bin\";:  41%|█████████████████                         | 273M/669M [02:00<03:03, 2.16MB/s]\u001b[A\n",
      "Downloading (…)\"pytorch_model.bin\";:  42%|█████████████████▊                        | 283M/669M [02:06<03:15, 1.98MB/s]\u001b[A\n",
      "Downloading (…)\"pytorch_model.bin\";:  44%|██████████████████▍                       | 294M/669M [02:13<03:25, 1.83MB/s]\u001b[A\n",
      "Downloading (…)\"pytorch_model.bin\";:  45%|███████████████████                       | 304M/669M [02:19<03:23, 1.79MB/s]\u001b[A\n",
      "Downloading (…)\"pytorch_model.bin\";:  47%|███████████████████▋                      | 315M/669M [02:25<03:18, 1.79MB/s]\u001b[A\n",
      "Downloading (…)\"pytorch_model.bin\";:  49%|████████████████████▍                     | 325M/669M [02:32<03:18, 1.73MB/s]\u001b[A\n",
      "Downloading (…)\"pytorch_model.bin\";:  50%|█████████████████████                     | 336M/669M [02:35<02:50, 1.96MB/s]\u001b[A\n",
      "Downloading (…)\"pytorch_model.bin\";:  52%|█████████████████████▋                    | 346M/669M [02:40<02:35, 2.08MB/s]\u001b[A\n",
      "Downloading (…)\"pytorch_model.bin\";:  53%|██████████████████████▎                   | 357M/669M [02:43<02:18, 2.25MB/s]\u001b[A\n",
      "Downloading (…)\"pytorch_model.bin\";:  55%|███████████████████████                   | 367M/669M [02:46<01:57, 2.57MB/s]\u001b[A\n",
      "Downloading (…)\"pytorch_model.bin\";:  56%|███████████████████████▋                  | 377M/669M [02:49<01:41, 2.87MB/s]\u001b[A\n",
      "Downloading (…)\"pytorch_model.bin\";:  58%|████████████████████████▎                 | 388M/669M [02:52<01:33, 3.00MB/s]\u001b[A\n",
      "Downloading (…)\"pytorch_model.bin\";:  60%|████████████████████████▉                 | 398M/669M [02:55<01:29, 3.03MB/s]\u001b[A\n",
      "Downloading (…)\"pytorch_model.bin\";:  61%|█████████████████████████▋                | 409M/669M [02:59<01:24, 3.09MB/s]\u001b[A\n",
      "Downloading (…)\"pytorch_model.bin\";:  63%|██████████████████████████▎               | 419M/669M [03:03<01:26, 2.90MB/s]\u001b[A\n",
      "Downloading (…)\"pytorch_model.bin\";:  64%|██████████████████████████▉               | 430M/669M [03:07<01:27, 2.72MB/s]\u001b[A\n",
      "Downloading (…)\"pytorch_model.bin\";:  66%|███████████████████████████▋              | 440M/669M [03:11<01:27, 2.62MB/s]\u001b[A\n",
      "Downloading (…)\"pytorch_model.bin\";:  67%|████████████████████████████▎             | 451M/669M [03:15<01:22, 2.64MB/s]\u001b[A\n",
      "Downloading (…)\"pytorch_model.bin\";:  69%|████████████████████████████▉             | 461M/669M [03:18<01:12, 2.86MB/s]\u001b[A\n",
      "Downloading (…)\"pytorch_model.bin\";:  70%|█████████████████████████████▌            | 472M/669M [03:21<01:04, 3.04MB/s]\u001b[A\n",
      "Downloading (…)\"pytorch_model.bin\";:  72%|██████████████████████████████▎           | 482M/669M [03:25<01:00, 3.07MB/s]\u001b[A\n",
      "Downloading (…)\"pytorch_model.bin\";:  74%|██████████████████████████████▉           | 493M/669M [03:27<00:53, 3.33MB/s]\u001b[A\n",
      "Downloading (…)\"pytorch_model.bin\";:  75%|███████████████████████████████▌          | 503M/669M [03:30<00:46, 3.55MB/s]\u001b[A\n",
      "Downloading (…)\"pytorch_model.bin\";:  77%|████████████████████████████████▏         | 514M/669M [03:32<00:42, 3.63MB/s]\u001b[A\n",
      "Downloading (…)\"pytorch_model.bin\";:  78%|████████████████████████████████▉         | 524M/669M [03:35<00:40, 3.57MB/s]\u001b[A\n",
      "Downloading (…)\"pytorch_model.bin\";:  80%|█████████████████████████████████▌        | 535M/669M [03:39<00:39, 3.38MB/s]\u001b[A\n",
      "Downloading (…)\"pytorch_model.bin\";:  81%|██████████████████████████████████▏       | 545M/669M [03:43<00:39, 3.11MB/s]\u001b[A\n",
      "Downloading (…)\"pytorch_model.bin\";:  83%|██████████████████████████████████▊       | 556M/669M [03:46<00:34, 3.29MB/s]\u001b[A\n",
      "Downloading (…)\"pytorch_model.bin\";:  85%|███████████████████████████████████▌      | 566M/669M [03:49<00:32, 3.21MB/s]\u001b[A\n",
      "Downloading (…)\"pytorch_model.bin\";:  86%|████████████████████████████████████▏     | 577M/669M [03:53<00:30, 3.09MB/s]\u001b[A\n",
      "Downloading (…)\"pytorch_model.bin\";:  88%|████████████████████████████████████▊     | 587M/669M [03:57<00:28, 2.85MB/s]\u001b[A\n",
      "Downloading (…)\"pytorch_model.bin\";:  89%|█████████████████████████████████████▍    | 598M/669M [04:02<00:27, 2.63MB/s]\u001b[A\n",
      "Downloading (…)\"pytorch_model.bin\";:  91%|██████████████████████████████████████▏   | 608M/669M [04:05<00:22, 2.73MB/s]\u001b[A\n",
      "Downloading (…)\"pytorch_model.bin\";:  92%|██████████████████████████████████████▊   | 619M/669M [04:09<00:18, 2.69MB/s]\u001b[A\n",
      "Downloading (…)\"pytorch_model.bin\";:  94%|███████████████████████████████████████▍  | 629M/669M [04:13<00:14, 2.79MB/s]\u001b[A\n",
      "Downloading (…)\"pytorch_model.bin\";:  96%|████████████████████████████████████████▏ | 640M/669M [04:16<00:09, 3.01MB/s]\u001b[A\n",
      "Downloading (…)\"pytorch_model.bin\";:  97%|████████████████████████████████████████▊ | 650M/669M [04:20<00:06, 2.84MB/s]\u001b[A\n",
      "Downloading (…)\"pytorch_model.bin\";:  99%|█████████████████████████████████████████▍| 661M/669M [04:29<00:04, 1.98MB/s]\u001b[A\n",
      "Downloading (…)\"pytorch_model.bin\";: 100%|██████████████████████████████████████████| 669M/669M [04:37<00:00, 2.41MB/s]\u001b[A\n"
     ]
    }
   ],
   "source": [
    "tokenizer=AutoTokenizer.from_pretrained('nlptown/bert-base-multilingual-uncased-sentiment')\n",
    "model=AutoModelForSequenceClassification.from_pretrained('nlptown/bert-base-multilingual-uncased-sentiment')"
   ]
  },
  {
   "cell_type": "code",
   "execution_count": 22,
   "id": "324cb9fe-98f5-4115-8f73-7150058660f5",
   "metadata": {},
   "outputs": [],
   "source": [
    "tokens=tokenizer.encode(\"poor\",return_tensors='pt')"
   ]
  },
  {
   "cell_type": "code",
   "execution_count": 23,
   "id": "cb6ef387-8bd8-45d6-83bc-76f9d1c1b6bc",
   "metadata": {},
   "outputs": [
    {
     "data": {
      "text/plain": [
       "'[CLS] poor [SEP]'"
      ]
     },
     "execution_count": 23,
     "metadata": {},
     "output_type": "execute_result"
    }
   ],
   "source": [
    "tokenizer.decode(tokens[0])"
   ]
  },
  {
   "cell_type": "code",
   "execution_count": 24,
   "id": "0bbb2209-65a7-4669-8242-909dd8c420d9",
   "metadata": {},
   "outputs": [],
   "source": [
    "result=model(tokens)"
   ]
  },
  {
   "cell_type": "code",
   "execution_count": 25,
   "id": "f3505dc9-6593-49ec-86ed-0d51dc733053",
   "metadata": {},
   "outputs": [
    {
     "data": {
      "text/plain": [
       "SequenceClassifierOutput(loss=None, logits=tensor([[ 2.0900,  1.8535,  0.6544, -1.6247, -2.4028]],\n",
       "       grad_fn=<AddmmBackward0>), hidden_states=None, attentions=None)"
      ]
     },
     "execution_count": 25,
     "metadata": {},
     "output_type": "execute_result"
    }
   ],
   "source": [
    "result"
   ]
  },
  {
   "cell_type": "code",
   "execution_count": 26,
   "id": "18ebbb63-0607-43ce-a0a4-7c5e75dc196c",
   "metadata": {},
   "outputs": [
    {
     "data": {
      "text/plain": [
       "0"
      ]
     },
     "execution_count": 26,
     "metadata": {},
     "output_type": "execute_result"
    }
   ],
   "source": [
    "rank=int(torch.argmax(result.logits))\n",
    "rank"
   ]
  },
  {
   "cell_type": "code",
   "execution_count": 32,
   "id": "272b8891-4ef7-4807-bdff-52ef14a2f4d2",
   "metadata": {},
   "outputs": [],
   "source": [
    "tokens=tokenizer.encode(\"i loved it\",return_tensors='pt')"
   ]
  },
  {
   "cell_type": "code",
   "execution_count": 33,
   "id": "116e9d57-78d6-4f13-aac5-308b701f42fc",
   "metadata": {},
   "outputs": [],
   "source": [
    "result=model(tokens)"
   ]
  },
  {
   "cell_type": "code",
   "execution_count": 37,
   "id": "8676889a-9d23-47d4-811d-89fd181bb82c",
   "metadata": {},
   "outputs": [
    {
     "data": {
      "text/plain": [
       "4"
      ]
     },
     "execution_count": 37,
     "metadata": {},
     "output_type": "execute_result"
    }
   ],
   "source": [
    "newrank=int(torch.argmax(result.logits))\n",
    "newrank"
   ]
  },
  {
   "cell_type": "code",
   "execution_count": null,
   "id": "8d5dc644-30d2-499a-ad36-a91b54ab2f7a",
   "metadata": {},
   "outputs": [],
   "source": []
  }
 ],
 "metadata": {
  "kernelspec": {
   "display_name": "Python 3 (ipykernel)",
   "language": "python",
   "name": "python3"
  },
  "language_info": {
   "codemirror_mode": {
    "name": "ipython",
    "version": 3
   },
   "file_extension": ".py",
   "mimetype": "text/x-python",
   "name": "python",
   "nbconvert_exporter": "python",
   "pygments_lexer": "ipython3",
   "version": "3.9.12"
  }
 },
 "nbformat": 4,
 "nbformat_minor": 5
}
