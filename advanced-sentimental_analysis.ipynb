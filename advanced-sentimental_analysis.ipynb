{
 "cells": [
  {
   "cell_type": "code",
   "execution_count": 2,
   "id": "f406cffa-8472-4245-b66e-c942d17045cc",
   "metadata": {},
   "outputs": [],
   "source": [
    "import torch\n",
    "from bs4 import BeautifulSoup\n",
    "import requests\n",
    "import re\n",
    "from transformers import AutoTokenizer,AutoModelForSequenceClassification"
   ]
  },
  {
   "cell_type": "code",
   "execution_count": 39,
   "id": "efd4c174-1758-41bd-922c-0f5b0c73bf59",
   "metadata": {},
   "outputs": [],
   "source": [
    "get=requests.get('https://www.yelp.com/biz/social-brew-cafe-pyrmont')\n",
    "response=BeautifulSoup(get.text,'html.parser')\n",
    "comment=re.compile('.*comment*.')\n",
    "ptag=response.find_all('p',{'class':comment})\n",
    "data=[value.text for value in ptag]"
   ]
  },
  {
   "cell_type": "code",
   "execution_count": 40,
   "id": "948baab1-307a-4d1e-80cd-8af30b590940",
   "metadata": {},
   "outputs": [
    {
     "data": {
      "text/plain": [
       "'Great food amazing coffee and tea. Short walk from the harbor. Staff was very friendly'"
      ]
     },
     "execution_count": 40,
     "metadata": {},
     "output_type": "execute_result"
    }
   ],
   "source": [
    "data[0]"
   ]
  },
  {
   "cell_type": "code",
   "execution_count": 43,
   "id": "535da053-9be0-44a6-b206-32bf27b88fe8",
   "metadata": {},
   "outputs": [],
   "source": [
    "import pandas as pd"
   ]
  },
  {
   "cell_type": "code",
   "execution_count": 47,
   "id": "fd25d1b8-8069-43eb-b40e-c6d6fafbef95",
   "metadata": {},
   "outputs": [],
   "source": [
    "df=pd.DataFrame(data,columns=['reviews'])"
   ]
  },
  {
   "cell_type": "code",
   "execution_count": 52,
   "id": "7791f95e-41a8-4f5e-a136-d2a122b1d713",
   "metadata": {},
   "outputs": [
    {
     "data": {
      "text/html": [
       "<div>\n",
       "<style scoped>\n",
       "    .dataframe tbody tr th:only-of-type {\n",
       "        vertical-align: middle;\n",
       "    }\n",
       "\n",
       "    .dataframe tbody tr th {\n",
       "        vertical-align: top;\n",
       "    }\n",
       "\n",
       "    .dataframe thead th {\n",
       "        text-align: right;\n",
       "    }\n",
       "</style>\n",
       "<table border=\"1\" class=\"dataframe\">\n",
       "  <thead>\n",
       "    <tr style=\"text-align: right;\">\n",
       "      <th></th>\n",
       "      <th>reviews</th>\n",
       "    </tr>\n",
       "  </thead>\n",
       "  <tbody>\n",
       "    <tr>\n",
       "      <th>0</th>\n",
       "      <td>Great food amazing coffee and tea. Short walk ...</td>\n",
       "    </tr>\n",
       "    <tr>\n",
       "      <th>1</th>\n",
       "      <td>It was ok. Had coffee with my friends. I'm new...</td>\n",
       "    </tr>\n",
       "    <tr>\n",
       "      <th>2</th>\n",
       "      <td>Great staff and food.  Must try is the pan fri...</td>\n",
       "    </tr>\n",
       "    <tr>\n",
       "      <th>3</th>\n",
       "      <td>Ricotta hot cakes! These were so yummy. I ate ...</td>\n",
       "    </tr>\n",
       "    <tr>\n",
       "      <th>4</th>\n",
       "      <td>I came to Social brew cafe for brunch while ex...</td>\n",
       "    </tr>\n",
       "  </tbody>\n",
       "</table>\n",
       "</div>"
      ],
      "text/plain": [
       "                                             reviews\n",
       "0  Great food amazing coffee and tea. Short walk ...\n",
       "1  It was ok. Had coffee with my friends. I'm new...\n",
       "2  Great staff and food.  Must try is the pan fri...\n",
       "3  Ricotta hot cakes! These were so yummy. I ate ...\n",
       "4  I came to Social brew cafe for brunch while ex..."
      ]
     },
     "execution_count": 52,
     "metadata": {},
     "output_type": "execute_result"
    }
   ],
   "source": [
    "df.head(5)"
   ]
  },
  {
   "cell_type": "code",
   "execution_count": 98,
   "id": "3356009b-8595-41ff-8ad9-73f4364e2f8f",
   "metadata": {},
   "outputs": [],
   "source": [
    "def score(da):\n",
    "    tokenizer=AutoTokenizer.from_pretrained('nlptown/bert-base-multilingual-uncased-sentiment')\n",
    "    model=AutoModelForSequenceClassification.from_pretrained('nlptown/bert-base-multilingual-uncased-sentiment')\n",
    "    toxens=tokenizer.encode(da,return_tensors='pt')\n",
    "    score=model(toxens)\n",
    "    rank=int(torch.argmax(score.logits))\n",
    "    i=0\n",
    "    i=i+1\n",
    "    return rank"
   ]
  },
  {
   "cell_type": "code",
   "execution_count": 111,
   "id": "8427a8d0-a9d5-4437-9250-28c08d526e82",
   "metadata": {},
   "outputs": [],
   "source": [
    "scorecard= score(df['reviews'].iloc[0])\n",
    "x=0"
   ]
  },
  {
   "cell_type": "code",
   "execution_count": 112,
   "id": "80d85aaa-8180-446c-adf2-6ffe77c8a666",
   "metadata": {},
   "outputs": [
    {
     "name": "stdout",
     "output_type": "stream",
     "text": [
      "4\n",
      "6\n"
     ]
    }
   ],
   "source": [
    "for datas in df['reviews'].head(2):\n",
    "    x=x+score(datas)\n",
    "    print(x)"
   ]
  },
  {
   "cell_type": "code",
   "execution_count": 103,
   "id": "ffb07bc7-325e-4838-aef2-1fbf52522ea0",
   "metadata": {},
   "outputs": [
    {
     "data": {
      "text/plain": [
       "0     Great food amazing coffee and tea. Short walk ...\n",
       "1     It was ok. Had coffee with my friends. I'm new...\n",
       "2     Great staff and food.  Must try is the pan fri...\n",
       "3     Ricotta hot cakes! These were so yummy. I ate ...\n",
       "4     I came to Social brew cafe for brunch while ex...\n",
       "5     It was ok. The coffee wasn't the best but it w...\n",
       "6     We came for brunch twice in our week-long visi...\n",
       "7     I went here a little while ago- a beautiful mo...\n",
       "8     Great coffee and vibe. That's all  you need. C...\n",
       "9     Great coffee and vibe. That's all  you need. C...\n",
       "10    Good coffee and toasts. Straight up and down -...\n",
       "Name: reviews, dtype: object"
      ]
     },
     "execution_count": 103,
     "metadata": {},
     "output_type": "execute_result"
    }
   ],
   "source": [
    "df.reviews"
   ]
  },
  {
   "cell_type": "code",
   "execution_count": 107,
   "id": "66367c85-3151-43fc-8144-f23609ae3f30",
   "metadata": {},
   "outputs": [
    {
     "data": {
      "text/plain": [
       "<bound method NDFrame.head of 0     Great food amazing coffee and tea. Short walk ...\n",
       "1     It was ok. Had coffee with my friends. I'm new...\n",
       "2     Great staff and food.  Must try is the pan fri...\n",
       "3     Ricotta hot cakes! These were so yummy. I ate ...\n",
       "4     I came to Social brew cafe for brunch while ex...\n",
       "5     It was ok. The coffee wasn't the best but it w...\n",
       "6     We came for brunch twice in our week-long visi...\n",
       "7     I went here a little while ago- a beautiful mo...\n",
       "8     Great coffee and vibe. That's all  you need. C...\n",
       "9     Great coffee and vibe. That's all  you need. C...\n",
       "10    Good coffee and toasts. Straight up and down -...\n",
       "Name: reviews, dtype: object>"
      ]
     },
     "execution_count": 107,
     "metadata": {},
     "output_type": "execute_result"
    }
   ],
   "source": [
    "df['reviews'].head"
   ]
  },
  {
   "cell_type": "code",
   "execution_count": 109,
   "id": "da53f67b-5d6c-4817-b859-c3993a9e0f46",
   "metadata": {},
   "outputs": [
    {
     "data": {
      "text/plain": [
       "72"
      ]
     },
     "execution_count": 109,
     "metadata": {},
     "output_type": "execute_result"
    }
   ],
   "source": [
    "x"
   ]
  },
  {
   "cell_type": "code",
   "execution_count": null,
   "id": "89d87de0-373d-4ce5-95ea-5c2c61c51a7c",
   "metadata": {},
   "outputs": [],
   "source": []
  }
 ],
 "metadata": {
  "kernelspec": {
   "display_name": "Python 3 (ipykernel)",
   "language": "python",
   "name": "python3"
  },
  "language_info": {
   "codemirror_mode": {
    "name": "ipython",
    "version": 3
   },
   "file_extension": ".py",
   "mimetype": "text/x-python",
   "name": "python",
   "nbconvert_exporter": "python",
   "pygments_lexer": "ipython3",
   "version": "3.9.12"
  }
 },
 "nbformat": 4,
 "nbformat_minor": 5
}
